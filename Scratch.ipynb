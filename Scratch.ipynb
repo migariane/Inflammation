{
 "metadata": {
  "name": "",
  "signature": "sha256:5d53f740384d2bc29c0786c582aee443a21be5cea4c19c57753d3783e34d0c88"
 },
 "nbformat": 3,
 "nbformat_minor": 0,
 "worksheets": [
  {
   "cells": [
    {
     "cell_type": "code",
     "collapsed": false,
     "input": [
      "filename = \"Inflammation_1.dat\"\n",
      "filename[13:-4]   "
     ],
     "language": "python",
     "metadata": {},
     "outputs": [
      {
       "metadata": {},
       "output_type": "pyout",
       "prompt_number": 18,
       "text": [
        "'1'"
       ]
      }
     ],
     "prompt_number": 18
    },
    {
     "cell_type": "code",
     "collapsed": false,
     "input": [
      "def assign_drug(filename):\n",
      "    number=filename[13:-4]\n",
      "    result=\" \"\n",
      "    if (int(number) % 2) == 1:\n",
      "       result=\"tylenol\"\n",
      "    else:\n",
      "       result=\"placebo\"\n",
      "    return result\n",
      "\n",
      "    assert assign_drug(\"Inflammation_1.dat\")==\"tylenol\"\n",
      "    assert assign_drug(\"Inflammation_4.dat\")==\"placebo\"\n",
      "    assert assign_drug(\"Inflammation_3.dat\")==\"tylenol\"\n"
     ],
     "language": "python",
     "metadata": {},
     "outputs": [],
     "prompt_number": 20
    }
   ],
   "metadata": {}
  }
 ]
}